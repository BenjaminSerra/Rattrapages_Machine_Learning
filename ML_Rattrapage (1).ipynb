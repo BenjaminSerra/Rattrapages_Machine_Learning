{
 "cells": [
  {
   "cell_type": "code",
   "execution_count": 20,
   "id": "68d071a9",
   "metadata": {},
   "outputs": [],
   "source": [
    "# Des installation sont possibles\n",
    "import nltk\n",
    "#nltk.download()\n",
    "#nltk.download('stopwords')"
   ]
  },
  {
   "cell_type": "code",
   "execution_count": 21,
   "id": "2be80387",
   "metadata": {},
   "outputs": [],
   "source": [
    "# Importation des librairies\n",
    "import numpy as np \n",
    "import pandas as pd\n",
    "import os\n",
    "import random\n",
    "\n",
    "import nltk\n",
    "from nltk.corpus import stopwords\n",
    "import string\n",
    "import nltk\n",
    "#nltk.download('stopwords')\n",
    "\n",
    "from sklearn.feature_extraction.text import CountVectorizer\n",
    "from sklearn.model_selection import train_test_split\n",
    "\n",
    "from sklearn.ensemble import RandomForestClassifier\n",
    "from sklearn.metrics import classification_report, accuracy_score, confusion_matrix\n"
   ]
  },
  {
   "cell_type": "code",
   "execution_count": 22,
   "id": "8f107b26",
   "metadata": {},
   "outputs": [],
   "source": [
    "# Dataset extrait de : 'https://www.kaggle.com/code/kishanmodasiya/spam-ham-detection/data'\n",
    "\n",
    "Table=r'spam_ham_dataset.csv'"
   ]
  },
  {
   "cell_type": "code",
   "execution_count": 23,
   "id": "1da44cae",
   "metadata": {},
   "outputs": [],
   "source": [
    "# Lecture du csv\n",
    "\n",
    "data = pd.read_csv(Table)"
   ]
  },
  {
   "cell_type": "code",
   "execution_count": 24,
   "id": "2be1cf4b",
   "metadata": {},
   "outputs": [
    {
     "name": "stdout",
     "output_type": "stream",
     "text": [
      "######\n",
      "4 premières lignes\n",
      "   Unnamed: 0 label                                               text  \\\n",
      "0         605   ham  Subject: enron methanol ; meter # : 988291\\r\\n...   \n",
      "1        2349   ham  Subject: hpl nom for january 9 , 2001\\r\\n( see...   \n",
      "2        3624   ham  Subject: neon retreat\\r\\nho ho ho , we ' re ar...   \n",
      "3        4685  spam  Subject: photoshop , windows , office . cheap ...   \n",
      "4        2030   ham  Subject: re : indian springs\\r\\nthis deal is t...   \n",
      "\n",
      "   label_num  \n",
      "0          0  \n",
      "1          0  \n",
      "2          0  \n",
      "3          1  \n",
      "4          0  \n",
      "######\n",
      "Type :\n",
      "Unnamed: 0     int64\n",
      "label         object\n",
      "text          object\n",
      "label_num      int64\n",
      "dtype: object\n",
      "######\n",
      "Taille :\n",
      "(5171, 4)\n",
      "######\n",
      "Titre des colonnes :\n",
      "Index(['Unnamed: 0', 'label', 'text', 'label_num'], dtype='object')\n"
     ]
    }
   ],
   "source": [
    "# Présentation dataset\n",
    "print(\"######\")\n",
    "print(\"4 premières lignes\")\n",
    "print(data.head())\n",
    "print(\"######\")\n",
    "print(\"Type :\")\n",
    "print(data.dtypes)\n",
    "print(\"######\")\n",
    "print(\"Taille :\")\n",
    "print(data.shape)\n",
    "print(\"######\")\n",
    "print(\"Titre des colonnes :\")\n",
    "print(data.columns)\n",
    "\n",
    "# On va devoir split notre jeu de données en train et test\n",
    "# Donnée importante : le texte\n",
    "# 'label' indique si spam ou non"
   ]
  },
  {
   "cell_type": "code",
   "execution_count": 25,
   "id": "ac6423e3",
   "metadata": {},
   "outputs": [
    {
     "data": {
      "text/plain": [
       "0    [Subject, enron, methanol, meter, 988291, foll...\n",
       "1    [Subject, hpl, nom, january, 9, 2001, see, att...\n",
       "2    [Subject, neon, retreat, ho, ho, ho, around, w...\n",
       "3    [Subject, photoshop, windows, office, cheap, m...\n",
       "4    [Subject, indian, springs, deal, book, teco, p...\n",
       "Name: text, dtype: object"
      ]
     },
     "execution_count": 25,
     "metadata": {},
     "output_type": "execute_result"
    }
   ],
   "source": [
    "#  Nous allons séparer 'text' en liste de mots pour une analyse pertinente\n",
    "# et enlever la ponctuation\n",
    "\n",
    "def traitement_text (text):\n",
    "    ponctuation=[]\n",
    "    mots =[]\n",
    "    for word in text:\n",
    "        if word not in string.punctuation:\n",
    "            ponctuation.append(word)\n",
    "    ponctuation = ''.join(ponctuation)\n",
    "    for word in ponctuation.split():\n",
    "        if word.lower() not in stopwords.words('english'):\n",
    "            mots.append(word)\n",
    "    return mots\n",
    "\n",
    "#print(traitement_text(data['text']))\n",
    "data['text'].head().apply(traitement_text)"
   ]
  },
  {
   "cell_type": "code",
   "execution_count": 26,
   "id": "fc696764",
   "metadata": {},
   "outputs": [
    {
     "data": {
      "text/plain": [
       "<5171x50381 sparse matrix of type '<class 'numpy.int64'>'\n",
       "\twith 374350 stored elements in Compressed Sparse Row format>"
      ]
     },
     "execution_count": 26,
     "metadata": {},
     "output_type": "execute_result"
    }
   ],
   "source": [
    "# Transformation des différentes parties du texte en  vecteur\n",
    "# pour permettre l'analyse\n",
    "\n",
    "text_vecteur = CountVectorizer(analyzer=traitement_text).fit_transform(data['text'])\n",
    "\n",
    "text_vecteur\n",
    "\n",
    "# L'execution peut être assez longue"
   ]
  },
  {
   "cell_type": "code",
   "execution_count": 27,
   "id": "0775758e",
   "metadata": {},
   "outputs": [],
   "source": [
    "# Split en train et test\n",
    "\n",
    "# Fixons l'aléatoire\n",
    "random.seed(42)\n",
    "\n",
    "X_train, X_test, y_train, y_test = train_test_split(text_vecteur, data['label_num'], test_size=0.2, random_state=0)"
   ]
  },
  {
   "cell_type": "code",
   "execution_count": 28,
   "id": "eb6f44d2",
   "metadata": {},
   "outputs": [
    {
     "name": "stdout",
     "output_type": "stream",
     "text": [
      "              precision    recall  f1-score   support\n",
      "\n",
      "           0       0.99      0.98      0.98       732\n",
      "           1       0.95      0.98      0.96       303\n",
      "\n",
      "    accuracy                           0.98      1035\n",
      "   macro avg       0.97      0.98      0.97      1035\n",
      "weighted avg       0.98      0.98      0.98      1035\n",
      "\n",
      "####\n",
      "Matrice de confusion\n",
      " [[716  16]\n",
      " [  6 297]]\n",
      "####\n",
      "Score d'accuracy\n",
      " 0.978743961352657\n"
     ]
    }
   ],
   "source": [
    "# Matrice de confusion\n",
    "# Score d'Accuracy\n",
    "\n",
    "random.seed(42)\n",
    "rfc = RandomForestClassifier().fit(X_train, y_train)\n",
    "pred = rfc.predict(X_test)\n",
    "print(classification_report(y_test, pred))\n",
    "print(\"####\")\n",
    "print(\"Matrice de confusion\\n\", confusion_matrix(y_test, pred))\n",
    "print(\"####\")\n",
    "print(\"Score d'accuracy\\n\", accuracy_score(y_test, pred))"
   ]
  },
  {
   "cell_type": "code",
   "execution_count": 29,
   "id": "2e317bdc",
   "metadata": {},
   "outputs": [],
   "source": [
    "# Best feature\n",
    "# max_depth=None (test de 1 à 45)\n",
    "# n_estimators=82 (test de 30 à 150)*\n",
    "# criterion='gini' (test gini et entropy)\n",
    "\n",
    "#Accuracy Score : 0.9806763285024155"
   ]
  },
  {
   "cell_type": "code",
   "execution_count": 30,
   "id": "13d9b4ba",
   "metadata": {},
   "outputs": [],
   "source": [
    "# Boucle utile pour certains tests\n",
    "# Si vous voulez lancer les tests, initialiser TEST=True et changer le paramètre à tester\n",
    "\n",
    "TEST=False\n",
    "\n",
    "if(TEST):\n",
    "    for i in range(80,90,1):\n",
    "        random.seed(42)\n",
    "        print(\"I=\",i)\n",
    "        rfc = RandomForestClassifier(n_estimators=i, criterion='gini', max_depth=None).fit(X_train, y_train)\n",
    "        pred = rfc.predict(X_test)\n",
    "        print(\"Score d'accuracy\\n\", accuracy_score(y_test, pred))"
   ]
  },
  {
   "cell_type": "code",
   "execution_count": 31,
   "id": "71b234fe",
   "metadata": {},
   "outputs": [
    {
     "name": "stdout",
     "output_type": "stream",
     "text": [
      "              precision    recall  f1-score   support\n",
      "\n",
      "           0       0.99      0.97      0.98       732\n",
      "           1       0.94      0.97      0.96       303\n",
      "\n",
      "    accuracy                           0.97      1035\n",
      "   macro avg       0.96      0.97      0.97      1035\n",
      "weighted avg       0.97      0.97      0.97      1035\n",
      "\n",
      "####\n",
      "Matrice de confusion\n",
      " [[713  19]\n",
      " [  8 295]]\n",
      "####\n",
      "Score d'accuracy\n",
      " 0.9739130434782609\n"
     ]
    }
   ],
   "source": [
    "# Meilleur score Accuracy - Score : 0.9806763285024155\n",
    "\n",
    "random.seed(42)\n",
    "rfc = RandomForestClassifier(n_estimators=82, criterion='gini', max_depth=None).fit(X_train, y_train)\n",
    "pred = rfc.predict(X_test)\n",
    "\n",
    "print(classification_report(y_test, pred))\n",
    "print(\"####\")\n",
    "print(\"Matrice de confusion\\n\", confusion_matrix(y_test, pred))\n",
    "print(\"####\")\n",
    "print(\"Score d'accuracy\\n\", accuracy_score(y_test, pred))\n"
   ]
  },
  {
   "cell_type": "code",
   "execution_count": null,
   "id": "0d00ad1c",
   "metadata": {},
   "outputs": [],
   "source": []
  }
 ],
 "metadata": {
  "kernelspec": {
   "display_name": "Python 3 (ipykernel)",
   "language": "python",
   "name": "python3"
  },
  "language_info": {
   "codemirror_mode": {
    "name": "ipython",
    "version": 3
   },
   "file_extension": ".py",
   "mimetype": "text/x-python",
   "name": "python",
   "nbconvert_exporter": "python",
   "pygments_lexer": "ipython3",
   "version": "3.9.7"
  }
 },
 "nbformat": 4,
 "nbformat_minor": 5
}
